{
 "cells": [
  {
   "cell_type": "code",
   "execution_count": 206,
   "outputs": [
    {
     "data": {
      "text/plain": "     PassengerId  Survived  Pclass  \\\n0              1         0       3   \n1              2         1       1   \n2              3         1       3   \n3              4         1       1   \n4              5         0       3   \n..           ...       ...     ...   \n886          887         0       2   \n887          888         1       1   \n888          889         0       3   \n889          890         1       1   \n890          891         0       3   \n\n                                                  Name     Sex   Age  SibSp  \\\n0                              Braund, Mr. Owen Harris    male  22.0      1   \n1    Cumings, Mrs. John Bradley (Florence Briggs Th...  female  38.0      1   \n2                               Heikkinen, Miss. Laina  female  26.0      0   \n3         Futrelle, Mrs. Jacques Heath (Lily May Peel)  female  35.0      1   \n4                             Allen, Mr. William Henry    male  35.0      0   \n..                                                 ...     ...   ...    ...   \n886                              Montvila, Rev. Juozas    male  27.0      0   \n887                       Graham, Miss. Margaret Edith  female  19.0      0   \n888           Johnston, Miss. Catherine Helen \"Carrie\"  female   NaN      1   \n889                              Behr, Mr. Karl Howell    male  26.0      0   \n890                                Dooley, Mr. Patrick    male  32.0      0   \n\n     Parch            Ticket     Fare Cabin Embarked  \n0        0         A/5 21171   7.2500   NaN        S  \n1        0          PC 17599  71.2833   C85        C  \n2        0  STON/O2. 3101282   7.9250   NaN        S  \n3        0            113803  53.1000  C123        S  \n4        0            373450   8.0500   NaN        S  \n..     ...               ...      ...   ...      ...  \n886      0            211536  13.0000   NaN        S  \n887      0            112053  30.0000   B42        S  \n888      2        W./C. 6607  23.4500   NaN        S  \n889      0            111369  30.0000  C148        C  \n890      0            370376   7.7500   NaN        Q  \n\n[891 rows x 12 columns]",
      "text/html": "<div>\n<style scoped>\n    .dataframe tbody tr th:only-of-type {\n        vertical-align: middle;\n    }\n\n    .dataframe tbody tr th {\n        vertical-align: top;\n    }\n\n    .dataframe thead th {\n        text-align: right;\n    }\n</style>\n<table border=\"1\" class=\"dataframe\">\n  <thead>\n    <tr style=\"text-align: right;\">\n      <th></th>\n      <th>PassengerId</th>\n      <th>Survived</th>\n      <th>Pclass</th>\n      <th>Name</th>\n      <th>Sex</th>\n      <th>Age</th>\n      <th>SibSp</th>\n      <th>Parch</th>\n      <th>Ticket</th>\n      <th>Fare</th>\n      <th>Cabin</th>\n      <th>Embarked</th>\n    </tr>\n  </thead>\n  <tbody>\n    <tr>\n      <th>0</th>\n      <td>1</td>\n      <td>0</td>\n      <td>3</td>\n      <td>Braund, Mr. Owen Harris</td>\n      <td>male</td>\n      <td>22.0</td>\n      <td>1</td>\n      <td>0</td>\n      <td>A/5 21171</td>\n      <td>7.2500</td>\n      <td>NaN</td>\n      <td>S</td>\n    </tr>\n    <tr>\n      <th>1</th>\n      <td>2</td>\n      <td>1</td>\n      <td>1</td>\n      <td>Cumings, Mrs. John Bradley (Florence Briggs Th...</td>\n      <td>female</td>\n      <td>38.0</td>\n      <td>1</td>\n      <td>0</td>\n      <td>PC 17599</td>\n      <td>71.2833</td>\n      <td>C85</td>\n      <td>C</td>\n    </tr>\n    <tr>\n      <th>2</th>\n      <td>3</td>\n      <td>1</td>\n      <td>3</td>\n      <td>Heikkinen, Miss. Laina</td>\n      <td>female</td>\n      <td>26.0</td>\n      <td>0</td>\n      <td>0</td>\n      <td>STON/O2. 3101282</td>\n      <td>7.9250</td>\n      <td>NaN</td>\n      <td>S</td>\n    </tr>\n    <tr>\n      <th>3</th>\n      <td>4</td>\n      <td>1</td>\n      <td>1</td>\n      <td>Futrelle, Mrs. Jacques Heath (Lily May Peel)</td>\n      <td>female</td>\n      <td>35.0</td>\n      <td>1</td>\n      <td>0</td>\n      <td>113803</td>\n      <td>53.1000</td>\n      <td>C123</td>\n      <td>S</td>\n    </tr>\n    <tr>\n      <th>4</th>\n      <td>5</td>\n      <td>0</td>\n      <td>3</td>\n      <td>Allen, Mr. William Henry</td>\n      <td>male</td>\n      <td>35.0</td>\n      <td>0</td>\n      <td>0</td>\n      <td>373450</td>\n      <td>8.0500</td>\n      <td>NaN</td>\n      <td>S</td>\n    </tr>\n    <tr>\n      <th>...</th>\n      <td>...</td>\n      <td>...</td>\n      <td>...</td>\n      <td>...</td>\n      <td>...</td>\n      <td>...</td>\n      <td>...</td>\n      <td>...</td>\n      <td>...</td>\n      <td>...</td>\n      <td>...</td>\n      <td>...</td>\n    </tr>\n    <tr>\n      <th>886</th>\n      <td>887</td>\n      <td>0</td>\n      <td>2</td>\n      <td>Montvila, Rev. Juozas</td>\n      <td>male</td>\n      <td>27.0</td>\n      <td>0</td>\n      <td>0</td>\n      <td>211536</td>\n      <td>13.0000</td>\n      <td>NaN</td>\n      <td>S</td>\n    </tr>\n    <tr>\n      <th>887</th>\n      <td>888</td>\n      <td>1</td>\n      <td>1</td>\n      <td>Graham, Miss. Margaret Edith</td>\n      <td>female</td>\n      <td>19.0</td>\n      <td>0</td>\n      <td>0</td>\n      <td>112053</td>\n      <td>30.0000</td>\n      <td>B42</td>\n      <td>S</td>\n    </tr>\n    <tr>\n      <th>888</th>\n      <td>889</td>\n      <td>0</td>\n      <td>3</td>\n      <td>Johnston, Miss. Catherine Helen \"Carrie\"</td>\n      <td>female</td>\n      <td>NaN</td>\n      <td>1</td>\n      <td>2</td>\n      <td>W./C. 6607</td>\n      <td>23.4500</td>\n      <td>NaN</td>\n      <td>S</td>\n    </tr>\n    <tr>\n      <th>889</th>\n      <td>890</td>\n      <td>1</td>\n      <td>1</td>\n      <td>Behr, Mr. Karl Howell</td>\n      <td>male</td>\n      <td>26.0</td>\n      <td>0</td>\n      <td>0</td>\n      <td>111369</td>\n      <td>30.0000</td>\n      <td>C148</td>\n      <td>C</td>\n    </tr>\n    <tr>\n      <th>890</th>\n      <td>891</td>\n      <td>0</td>\n      <td>3</td>\n      <td>Dooley, Mr. Patrick</td>\n      <td>male</td>\n      <td>32.0</td>\n      <td>0</td>\n      <td>0</td>\n      <td>370376</td>\n      <td>7.7500</td>\n      <td>NaN</td>\n      <td>Q</td>\n    </tr>\n  </tbody>\n</table>\n<p>891 rows × 12 columns</p>\n</div>"
     },
     "execution_count": 206,
     "metadata": {},
     "output_type": "execute_result"
    }
   ],
   "source": [
    "import pandas as pd\n",
    "import numpy as np\n",
    "from sklearn.linear_model import LogisticRegression, SGDRegressor\n",
    "from sklearn.preprocessing import StandardScaler\n",
    "from sklearn.experimental import enable_iterative_imputer\n",
    "from sklearn.impute import IterativeImputer\n",
    "\n",
    "kernel_stats = pd.read_csv('titanic/train.csv')\n",
    "kernel_stats"
   ],
   "metadata": {
    "collapsed": false,
    "pycharm": {
     "name": "#%%\n"
    }
   }
  },
  {
   "cell_type": "code",
   "execution_count": 207,
   "outputs": [],
   "source": [
    "stats = kernel_stats.to_numpy()\n",
    "stats\n",
    "X = np.concatenate((np.reshape(stats[:,2],(len(stats),1)),stats[:,4:8],np.reshape(stats[:,9],(len(stats),1)),np.reshape(stats[:,11],(len(stats),1))), axis = 1)\n",
    "y = stats[:,1]\n",
    "y=y.astype('int')"
   ],
   "metadata": {
    "collapsed": false,
    "pycharm": {
     "name": "#%%\n"
    }
   }
  },
  {
   "cell_type": "code",
   "execution_count": 208,
   "outputs": [
    {
     "data": {
      "text/plain": "array([[3, 'male', 22.0, ..., 0, 7.25, 'S'],\n       [1, 'female', 38.0, ..., 0, 71.2833, 'C'],\n       [3, 'female', 26.0, ..., 0, 7.925, 'S'],\n       ...,\n       [3, 'female', nan, ..., 2, 23.45, 'S'],\n       [1, 'male', 26.0, ..., 0, 30.0, 'C'],\n       [3, 'male', 32.0, ..., 0, 7.75, 'Q']], dtype=object)"
     },
     "execution_count": 208,
     "metadata": {},
     "output_type": "execute_result"
    }
   ],
   "source": [
    "X"
   ],
   "metadata": {
    "collapsed": false,
    "pycharm": {
     "name": "#%%\n"
    }
   }
  },
  {
   "cell_type": "code",
   "execution_count": 209,
   "outputs": [
    {
     "data": {
      "text/plain": "(1, 891)"
     },
     "execution_count": 209,
     "metadata": {},
     "output_type": "execute_result"
    }
   ],
   "source": [
    "np.reshape(stats[:,2],(1,len(stats))).shape"
   ],
   "metadata": {
    "collapsed": false,
    "pycharm": {
     "name": "#%%\n"
    }
   }
  },
  {
   "cell_type": "code",
   "execution_count": 210,
   "outputs": [],
   "source": [
    "for i in range(len(X[:,1])):\n",
    "    if X[i,1] == \"male\":\n",
    "        X[i,1] = 0\n",
    "    else:\n",
    "        X[i,1] = 1\n",
    "\n",
    "for i in range(len(X[:,6])):\n",
    "    if X[i,6] == \"S\":\n",
    "        X[i,6] = 0\n",
    "    elif X[i,6] == \"C\":\n",
    "        X[i,6] = 1\n",
    "    else:\n",
    "        X[i,6] = 2"
   ],
   "metadata": {
    "collapsed": false,
    "pycharm": {
     "name": "#%%\n"
    }
   }
  },
  {
   "cell_type": "code",
   "execution_count": 211,
   "outputs": [
    {
     "data": {
      "text/plain": "array([[3, 0, 22.0, ..., 0, 7.25, 0],\n       [1, 1, 38.0, ..., 0, 71.2833, 1],\n       [3, 1, 26.0, ..., 0, 7.925, 0],\n       ...,\n       [3, 1, nan, ..., 2, 23.45, 0],\n       [1, 0, 26.0, ..., 0, 30.0, 1],\n       [3, 0, 32.0, ..., 0, 7.75, 2]], dtype=object)"
     },
     "execution_count": 211,
     "metadata": {},
     "output_type": "execute_result"
    }
   ],
   "source": [
    "X"
   ],
   "metadata": {
    "collapsed": false,
    "pycharm": {
     "name": "#%%\n"
    }
   }
  },
  {
   "cell_type": "code",
   "execution_count": 212,
   "outputs": [],
   "source": [
    "imp = IterativeImputer(max_iter=10000, random_state=0)\n",
    "imp.fit(X)\n",
    "X_imp = imp.transform(X)"
   ],
   "metadata": {
    "collapsed": false,
    "pycharm": {
     "name": "#%%\n"
    }
   }
  },
  {
   "cell_type": "code",
   "execution_count": 213,
   "outputs": [],
   "source": [
    "scaler = StandardScaler()\n",
    "X_norm = scaler.fit_transform(X_imp)"
   ],
   "metadata": {
    "collapsed": false,
    "pycharm": {
     "name": "#%%\n"
    }
   }
  },
  {
   "cell_type": "code",
   "execution_count": 214,
   "outputs": [
    {
     "data": {
      "text/plain": "LogisticRegression()"
     },
     "execution_count": 214,
     "metadata": {},
     "output_type": "execute_result"
    }
   ],
   "source": [
    "sgdr = LogisticRegression()\n",
    "sgdr.fit(X_norm, y)"
   ],
   "metadata": {
    "collapsed": false,
    "pycharm": {
     "name": "#%%\n"
    }
   }
  },
  {
   "cell_type": "code",
   "execution_count": 215,
   "outputs": [
    {
     "data": {
      "text/plain": "numpy.int32"
     },
     "execution_count": 215,
     "metadata": {},
     "output_type": "execute_result"
    }
   ],
   "source": [
    "type(y[0])"
   ],
   "metadata": {
    "collapsed": false,
    "pycharm": {
     "name": "#%%\n"
    }
   }
  },
  {
   "cell_type": "code",
   "execution_count": 216,
   "outputs": [
    {
     "data": {
      "text/plain": "     PassengerId  Pclass                                          Name  \\\n0            892       3                              Kelly, Mr. James   \n1            893       3              Wilkes, Mrs. James (Ellen Needs)   \n2            894       2                     Myles, Mr. Thomas Francis   \n3            895       3                              Wirz, Mr. Albert   \n4            896       3  Hirvonen, Mrs. Alexander (Helga E Lindqvist)   \n..           ...     ...                                           ...   \n413         1305       3                            Spector, Mr. Woolf   \n414         1306       1                  Oliva y Ocana, Dona. Fermina   \n415         1307       3                  Saether, Mr. Simon Sivertsen   \n416         1308       3                           Ware, Mr. Frederick   \n417         1309       3                      Peter, Master. Michael J   \n\n        Sex   Age  SibSp  Parch              Ticket      Fare Cabin Embarked  \n0      male  34.5      0      0              330911    7.8292   NaN        Q  \n1    female  47.0      1      0              363272    7.0000   NaN        S  \n2      male  62.0      0      0              240276    9.6875   NaN        Q  \n3      male  27.0      0      0              315154    8.6625   NaN        S  \n4    female  22.0      1      1             3101298   12.2875   NaN        S  \n..      ...   ...    ...    ...                 ...       ...   ...      ...  \n413    male   NaN      0      0           A.5. 3236    8.0500   NaN        S  \n414  female  39.0      0      0            PC 17758  108.9000  C105        C  \n415    male  38.5      0      0  SOTON/O.Q. 3101262    7.2500   NaN        S  \n416    male   NaN      0      0              359309    8.0500   NaN        S  \n417    male   NaN      1      1                2668   22.3583   NaN        C  \n\n[418 rows x 11 columns]",
      "text/html": "<div>\n<style scoped>\n    .dataframe tbody tr th:only-of-type {\n        vertical-align: middle;\n    }\n\n    .dataframe tbody tr th {\n        vertical-align: top;\n    }\n\n    .dataframe thead th {\n        text-align: right;\n    }\n</style>\n<table border=\"1\" class=\"dataframe\">\n  <thead>\n    <tr style=\"text-align: right;\">\n      <th></th>\n      <th>PassengerId</th>\n      <th>Pclass</th>\n      <th>Name</th>\n      <th>Sex</th>\n      <th>Age</th>\n      <th>SibSp</th>\n      <th>Parch</th>\n      <th>Ticket</th>\n      <th>Fare</th>\n      <th>Cabin</th>\n      <th>Embarked</th>\n    </tr>\n  </thead>\n  <tbody>\n    <tr>\n      <th>0</th>\n      <td>892</td>\n      <td>3</td>\n      <td>Kelly, Mr. James</td>\n      <td>male</td>\n      <td>34.5</td>\n      <td>0</td>\n      <td>0</td>\n      <td>330911</td>\n      <td>7.8292</td>\n      <td>NaN</td>\n      <td>Q</td>\n    </tr>\n    <tr>\n      <th>1</th>\n      <td>893</td>\n      <td>3</td>\n      <td>Wilkes, Mrs. James (Ellen Needs)</td>\n      <td>female</td>\n      <td>47.0</td>\n      <td>1</td>\n      <td>0</td>\n      <td>363272</td>\n      <td>7.0000</td>\n      <td>NaN</td>\n      <td>S</td>\n    </tr>\n    <tr>\n      <th>2</th>\n      <td>894</td>\n      <td>2</td>\n      <td>Myles, Mr. Thomas Francis</td>\n      <td>male</td>\n      <td>62.0</td>\n      <td>0</td>\n      <td>0</td>\n      <td>240276</td>\n      <td>9.6875</td>\n      <td>NaN</td>\n      <td>Q</td>\n    </tr>\n    <tr>\n      <th>3</th>\n      <td>895</td>\n      <td>3</td>\n      <td>Wirz, Mr. Albert</td>\n      <td>male</td>\n      <td>27.0</td>\n      <td>0</td>\n      <td>0</td>\n      <td>315154</td>\n      <td>8.6625</td>\n      <td>NaN</td>\n      <td>S</td>\n    </tr>\n    <tr>\n      <th>4</th>\n      <td>896</td>\n      <td>3</td>\n      <td>Hirvonen, Mrs. Alexander (Helga E Lindqvist)</td>\n      <td>female</td>\n      <td>22.0</td>\n      <td>1</td>\n      <td>1</td>\n      <td>3101298</td>\n      <td>12.2875</td>\n      <td>NaN</td>\n      <td>S</td>\n    </tr>\n    <tr>\n      <th>...</th>\n      <td>...</td>\n      <td>...</td>\n      <td>...</td>\n      <td>...</td>\n      <td>...</td>\n      <td>...</td>\n      <td>...</td>\n      <td>...</td>\n      <td>...</td>\n      <td>...</td>\n      <td>...</td>\n    </tr>\n    <tr>\n      <th>413</th>\n      <td>1305</td>\n      <td>3</td>\n      <td>Spector, Mr. Woolf</td>\n      <td>male</td>\n      <td>NaN</td>\n      <td>0</td>\n      <td>0</td>\n      <td>A.5. 3236</td>\n      <td>8.0500</td>\n      <td>NaN</td>\n      <td>S</td>\n    </tr>\n    <tr>\n      <th>414</th>\n      <td>1306</td>\n      <td>1</td>\n      <td>Oliva y Ocana, Dona. Fermina</td>\n      <td>female</td>\n      <td>39.0</td>\n      <td>0</td>\n      <td>0</td>\n      <td>PC 17758</td>\n      <td>108.9000</td>\n      <td>C105</td>\n      <td>C</td>\n    </tr>\n    <tr>\n      <th>415</th>\n      <td>1307</td>\n      <td>3</td>\n      <td>Saether, Mr. Simon Sivertsen</td>\n      <td>male</td>\n      <td>38.5</td>\n      <td>0</td>\n      <td>0</td>\n      <td>SOTON/O.Q. 3101262</td>\n      <td>7.2500</td>\n      <td>NaN</td>\n      <td>S</td>\n    </tr>\n    <tr>\n      <th>416</th>\n      <td>1308</td>\n      <td>3</td>\n      <td>Ware, Mr. Frederick</td>\n      <td>male</td>\n      <td>NaN</td>\n      <td>0</td>\n      <td>0</td>\n      <td>359309</td>\n      <td>8.0500</td>\n      <td>NaN</td>\n      <td>S</td>\n    </tr>\n    <tr>\n      <th>417</th>\n      <td>1309</td>\n      <td>3</td>\n      <td>Peter, Master. Michael J</td>\n      <td>male</td>\n      <td>NaN</td>\n      <td>1</td>\n      <td>1</td>\n      <td>2668</td>\n      <td>22.3583</td>\n      <td>NaN</td>\n      <td>C</td>\n    </tr>\n  </tbody>\n</table>\n<p>418 rows × 11 columns</p>\n</div>"
     },
     "execution_count": 216,
     "metadata": {},
     "output_type": "execute_result"
    }
   ],
   "source": [
    "stats = pd.read_csv('titanic/test.csv')\n",
    "stats"
   ],
   "metadata": {
    "collapsed": false,
    "pycharm": {
     "name": "#%%\n"
    }
   }
  },
  {
   "cell_type": "code",
   "execution_count": 217,
   "outputs": [],
   "source": [
    "stats = stats.to_numpy()\n",
    "prompt = np.concatenate((np.reshape(stats[:,1],(len(stats),1)),stats[:,3:7],np.reshape(stats[:,8],(len(stats),1)),np.reshape(stats[:,10],(len(stats),1))), axis = 1)"
   ],
   "metadata": {
    "collapsed": false,
    "pycharm": {
     "name": "#%%\n"
    }
   }
  },
  {
   "cell_type": "code",
   "execution_count": 218,
   "outputs": [
    {
     "data": {
      "text/plain": "array([[3, 'male', 34.5, ..., 0, 7.8292, 'Q'],\n       [3, 'female', 47.0, ..., 0, 7.0, 'S'],\n       [2, 'male', 62.0, ..., 0, 9.6875, 'Q'],\n       ...,\n       [3, 'male', 38.5, ..., 0, 7.25, 'S'],\n       [3, 'male', nan, ..., 0, 8.05, 'S'],\n       [3, 'male', nan, ..., 1, 22.3583, 'C']], dtype=object)"
     },
     "execution_count": 218,
     "metadata": {},
     "output_type": "execute_result"
    }
   ],
   "source": [
    "prompt"
   ],
   "metadata": {
    "collapsed": false,
    "pycharm": {
     "name": "#%%\n"
    }
   }
  },
  {
   "cell_type": "code",
   "execution_count": 219,
   "outputs": [
    {
     "data": {
      "text/plain": "array([[3, 0, 34.5, ..., 0, 7.8292, 2],\n       [3, 1, 47.0, ..., 0, 7.0, 0],\n       [2, 0, 62.0, ..., 0, 9.6875, 2],\n       ...,\n       [3, 0, 38.5, ..., 0, 7.25, 0],\n       [3, 0, nan, ..., 0, 8.05, 0],\n       [3, 0, nan, ..., 1, 22.3583, 1]], dtype=object)"
     },
     "execution_count": 219,
     "metadata": {},
     "output_type": "execute_result"
    }
   ],
   "source": [
    "X = prompt\n",
    "for i in range(len(X[:,1])):\n",
    "    if X[i,1] == \"male\":\n",
    "        X[i,1] = 0\n",
    "    else:\n",
    "        X[i,1] = 1\n",
    "\n",
    "for i in range(len(X[:,6])):\n",
    "    if X[i,6] == \"S\":\n",
    "        X[i,6] = 0\n",
    "    elif X[i,6] == \"C\":\n",
    "        X[i,6] = 1\n",
    "    else:\n",
    "        X[i,6] = 2\n",
    "X"
   ],
   "metadata": {
    "collapsed": false,
    "pycharm": {
     "name": "#%%\n"
    }
   }
  },
  {
   "cell_type": "code",
   "execution_count": 220,
   "outputs": [
    {
     "data": {
      "text/plain": "array([[892, 0.0],\n       [893, 0.0],\n       [894, 0.0],\n       [895, 0.0],\n       [896, 0.0],\n       [897, 0.0],\n       [898, 0.0],\n       [899, 0.0],\n       [900, 0.0],\n       [901, 0.0],\n       [902, 0.0],\n       [903, 0.0],\n       [904, 0.0],\n       [905, 0.0],\n       [906, 0.0],\n       [907, 0.0],\n       [908, 0.0],\n       [909, 0.0],\n       [910, 0.0],\n       [911, 0.0],\n       [912, 0.0],\n       [913, 0.0],\n       [914, 0.0],\n       [915, 0.0],\n       [916, 0.0],\n       [917, 0.0],\n       [918, 0.0],\n       [919, 0.0],\n       [920, 0.0],\n       [921, 0.0],\n       [922, 0.0],\n       [923, 0.0],\n       [924, 0.0],\n       [925, 0.0],\n       [926, 0.0],\n       [927, 0.0],\n       [928, 0.0],\n       [929, 0.0],\n       [930, 0.0],\n       [931, 0.0],\n       [932, 0.0],\n       [933, 0.0],\n       [934, 0.0],\n       [935, 0.0],\n       [936, 0.0],\n       [937, 0.0],\n       [938, 0.0],\n       [939, 0.0],\n       [940, 0.0],\n       [941, 0.0],\n       [942, 0.0],\n       [943, 0.0],\n       [944, 0.0],\n       [945, 0.0],\n       [946, 0.0],\n       [947, 0.0],\n       [948, 0.0],\n       [949, 0.0],\n       [950, 0.0],\n       [951, 0.0],\n       [952, 0.0],\n       [953, 0.0],\n       [954, 0.0],\n       [955, 0.0],\n       [956, 0.0],\n       [957, 0.0],\n       [958, 0.0],\n       [959, 0.0],\n       [960, 0.0],\n       [961, 0.0],\n       [962, 0.0],\n       [963, 0.0],\n       [964, 0.0],\n       [965, 0.0],\n       [966, 0.0],\n       [967, 0.0],\n       [968, 0.0],\n       [969, 0.0],\n       [970, 0.0],\n       [971, 0.0],\n       [972, 0.0],\n       [973, 0.0],\n       [974, 0.0],\n       [975, 0.0],\n       [976, 0.0],\n       [977, 0.0],\n       [978, 0.0],\n       [979, 0.0],\n       [980, 0.0],\n       [981, 0.0],\n       [982, 0.0],\n       [983, 0.0],\n       [984, 0.0],\n       [985, 0.0],\n       [986, 0.0],\n       [987, 0.0],\n       [988, 0.0],\n       [989, 0.0],\n       [990, 0.0],\n       [991, 0.0],\n       [992, 0.0],\n       [993, 0.0],\n       [994, 0.0],\n       [995, 0.0],\n       [996, 0.0],\n       [997, 0.0],\n       [998, 0.0],\n       [999, 0.0],\n       [1000, 0.0],\n       [1001, 0.0],\n       [1002, 0.0],\n       [1003, 0.0],\n       [1004, 0.0],\n       [1005, 0.0],\n       [1006, 0.0],\n       [1007, 0.0],\n       [1008, 0.0],\n       [1009, 0.0],\n       [1010, 0.0],\n       [1011, 0.0],\n       [1012, 0.0],\n       [1013, 0.0],\n       [1014, 0.0],\n       [1015, 0.0],\n       [1016, 0.0],\n       [1017, 0.0],\n       [1018, 0.0],\n       [1019, 0.0],\n       [1020, 0.0],\n       [1021, 0.0],\n       [1022, 0.0],\n       [1023, 0.0],\n       [1024, 0.0],\n       [1025, 0.0],\n       [1026, 0.0],\n       [1027, 0.0],\n       [1028, 0.0],\n       [1029, 0.0],\n       [1030, 0.0],\n       [1031, 0.0],\n       [1032, 0.0],\n       [1033, 0.0],\n       [1034, 0.0],\n       [1035, 0.0],\n       [1036, 0.0],\n       [1037, 0.0],\n       [1038, 0.0],\n       [1039, 0.0],\n       [1040, 0.0],\n       [1041, 0.0],\n       [1042, 0.0],\n       [1043, 0.0],\n       [1044, 0.0],\n       [1045, 0.0],\n       [1046, 0.0],\n       [1047, 0.0],\n       [1048, 0.0],\n       [1049, 0.0],\n       [1050, 0.0],\n       [1051, 0.0],\n       [1052, 0.0],\n       [1053, 0.0],\n       [1054, 0.0],\n       [1055, 0.0],\n       [1056, 0.0],\n       [1057, 0.0],\n       [1058, 0.0],\n       [1059, 0.0],\n       [1060, 0.0],\n       [1061, 0.0],\n       [1062, 0.0],\n       [1063, 0.0],\n       [1064, 0.0],\n       [1065, 0.0],\n       [1066, 0.0],\n       [1067, 0.0],\n       [1068, 0.0],\n       [1069, 0.0],\n       [1070, 0.0],\n       [1071, 0.0],\n       [1072, 0.0],\n       [1073, 0.0],\n       [1074, 0.0],\n       [1075, 0.0],\n       [1076, 0.0],\n       [1077, 0.0],\n       [1078, 0.0],\n       [1079, 0.0],\n       [1080, 0.0],\n       [1081, 0.0],\n       [1082, 0.0],\n       [1083, 0.0],\n       [1084, 0.0],\n       [1085, 0.0],\n       [1086, 0.0],\n       [1087, 0.0],\n       [1088, 0.0],\n       [1089, 0.0],\n       [1090, 0.0],\n       [1091, 0.0],\n       [1092, 0.0],\n       [1093, 0.0],\n       [1094, 0.0],\n       [1095, 0.0],\n       [1096, 0.0],\n       [1097, 0.0],\n       [1098, 0.0],\n       [1099, 0.0],\n       [1100, 0.0],\n       [1101, 0.0],\n       [1102, 0.0],\n       [1103, 0.0],\n       [1104, 0.0],\n       [1105, 0.0],\n       [1106, 0.0],\n       [1107, 0.0],\n       [1108, 0.0],\n       [1109, 0.0],\n       [1110, 0.0],\n       [1111, 0.0],\n       [1112, 0.0],\n       [1113, 0.0],\n       [1114, 0.0],\n       [1115, 0.0],\n       [1116, 0.0],\n       [1117, 0.0],\n       [1118, 0.0],\n       [1119, 0.0],\n       [1120, 0.0],\n       [1121, 0.0],\n       [1122, 0.0],\n       [1123, 0.0],\n       [1124, 0.0],\n       [1125, 0.0],\n       [1126, 0.0],\n       [1127, 0.0],\n       [1128, 0.0],\n       [1129, 0.0],\n       [1130, 0.0],\n       [1131, 0.0],\n       [1132, 0.0],\n       [1133, 0.0],\n       [1134, 0.0],\n       [1135, 0.0],\n       [1136, 0.0],\n       [1137, 0.0],\n       [1138, 0.0],\n       [1139, 0.0],\n       [1140, 0.0],\n       [1141, 0.0],\n       [1142, 0.0],\n       [1143, 0.0],\n       [1144, 0.0],\n       [1145, 0.0],\n       [1146, 0.0],\n       [1147, 0.0],\n       [1148, 0.0],\n       [1149, 0.0],\n       [1150, 0.0],\n       [1151, 0.0],\n       [1152, 0.0],\n       [1153, 0.0],\n       [1154, 0.0],\n       [1155, 0.0],\n       [1156, 0.0],\n       [1157, 0.0],\n       [1158, 0.0],\n       [1159, 0.0],\n       [1160, 0.0],\n       [1161, 0.0],\n       [1162, 0.0],\n       [1163, 0.0],\n       [1164, 0.0],\n       [1165, 0.0],\n       [1166, 0.0],\n       [1167, 0.0],\n       [1168, 0.0],\n       [1169, 0.0],\n       [1170, 0.0],\n       [1171, 0.0],\n       [1172, 0.0],\n       [1173, 0.0],\n       [1174, 0.0],\n       [1175, 0.0],\n       [1176, 0.0],\n       [1177, 0.0],\n       [1178, 0.0],\n       [1179, 0.0],\n       [1180, 0.0],\n       [1181, 0.0],\n       [1182, 0.0],\n       [1183, 0.0],\n       [1184, 0.0],\n       [1185, 0.0],\n       [1186, 0.0],\n       [1187, 0.0],\n       [1188, 0.0],\n       [1189, 0.0],\n       [1190, 0.0],\n       [1191, 0.0],\n       [1192, 0.0],\n       [1193, 0.0],\n       [1194, 0.0],\n       [1195, 0.0],\n       [1196, 0.0],\n       [1197, 0.0],\n       [1198, 0.0],\n       [1199, 0.0],\n       [1200, 0.0],\n       [1201, 0.0],\n       [1202, 0.0],\n       [1203, 0.0],\n       [1204, 0.0],\n       [1205, 0.0],\n       [1206, 0.0],\n       [1207, 0.0],\n       [1208, 0.0],\n       [1209, 0.0],\n       [1210, 0.0],\n       [1211, 0.0],\n       [1212, 0.0],\n       [1213, 0.0],\n       [1214, 0.0],\n       [1215, 0.0],\n       [1216, 0.0],\n       [1217, 0.0],\n       [1218, 0.0],\n       [1219, 0.0],\n       [1220, 0.0],\n       [1221, 0.0],\n       [1222, 0.0],\n       [1223, 0.0],\n       [1224, 0.0],\n       [1225, 0.0],\n       [1226, 0.0],\n       [1227, 0.0],\n       [1228, 0.0],\n       [1229, 0.0],\n       [1230, 0.0],\n       [1231, 0.0],\n       [1232, 0.0],\n       [1233, 0.0],\n       [1234, 0.0],\n       [1235, 0.0],\n       [1236, 0.0],\n       [1237, 0.0],\n       [1238, 0.0],\n       [1239, 0.0],\n       [1240, 0.0],\n       [1241, 0.0],\n       [1242, 0.0],\n       [1243, 0.0],\n       [1244, 0.0],\n       [1245, 0.0],\n       [1246, 0.0],\n       [1247, 0.0],\n       [1248, 0.0],\n       [1249, 0.0],\n       [1250, 0.0],\n       [1251, 0.0],\n       [1252, 0.0],\n       [1253, 0.0],\n       [1254, 0.0],\n       [1255, 0.0],\n       [1256, 0.0],\n       [1257, 0.0],\n       [1258, 0.0],\n       [1259, 0.0],\n       [1260, 0.0],\n       [1261, 0.0],\n       [1262, 0.0],\n       [1263, 0.0],\n       [1264, 0.0],\n       [1265, 0.0],\n       [1266, 0.0],\n       [1267, 0.0],\n       [1268, 0.0],\n       [1269, 0.0],\n       [1270, 0.0],\n       [1271, 0.0],\n       [1272, 0.0],\n       [1273, 0.0],\n       [1274, 0.0],\n       [1275, 0.0],\n       [1276, 0.0],\n       [1277, 0.0],\n       [1278, 0.0],\n       [1279, 0.0],\n       [1280, 0.0],\n       [1281, 0.0],\n       [1282, 0.0],\n       [1283, 0.0],\n       [1284, 0.0],\n       [1285, 0.0],\n       [1286, 0.0],\n       [1287, 0.0],\n       [1288, 0.0],\n       [1289, 0.0],\n       [1290, 0.0],\n       [1291, 0.0],\n       [1292, 0.0],\n       [1293, 0.0],\n       [1294, 0.0],\n       [1295, 0.0],\n       [1296, 0.0],\n       [1297, 0.0],\n       [1298, 0.0],\n       [1299, 0.0],\n       [1300, 0.0],\n       [1301, 0.0],\n       [1302, 0.0],\n       [1303, 0.0],\n       [1304, 0.0],\n       [1305, 0.0],\n       [1306, 0.0],\n       [1307, 0.0],\n       [1308, 0.0],\n       [1309, 0.0]], dtype=object)"
     },
     "execution_count": 220,
     "metadata": {},
     "output_type": "execute_result"
    }
   ],
   "source": [
    "results = np.concatenate((np.reshape(stats[:,0],(len(stats),1)),np.zeros((418,1))), axis=1)\n",
    "results"
   ],
   "metadata": {
    "collapsed": false,
    "pycharm": {
     "name": "#%%\n"
    }
   }
  },
  {
   "cell_type": "code",
   "execution_count": 221,
   "outputs": [],
   "source": [
    "imp = IterativeImputer(max_iter=10000, random_state=0)\n",
    "imp.fit(X)\n",
    "X_imp = imp.transform(X)"
   ],
   "metadata": {
    "collapsed": false,
    "pycharm": {
     "name": "#%%\n"
    }
   }
  },
  {
   "cell_type": "code",
   "execution_count": 222,
   "outputs": [
    {
     "data": {
      "text/plain": "array([[ 0.87348191, -0.75592895,  0.38902184, ..., -0.4002477 ,\n        -0.4971606 ,  2.24316522],\n       [ 0.87348191,  1.32287566,  1.35699221, ..., -0.4002477 ,\n        -0.51202396, -0.6778412 ],\n       [-0.31581919, -0.75592895,  2.51855665, ..., -0.4002477 ,\n        -0.46385067,  2.24316522],\n       ...,\n       [ 0.87348191, -0.75592895,  0.69877236, ..., -0.4002477 ,\n        -0.50754273, -0.6778412 ],\n       [ 0.87348191, -0.75592895, -0.35294054, ..., -0.4002477 ,\n        -0.49320277, -0.6778412 ],\n       [ 0.87348191, -0.75592895, -0.42052837, ...,  0.61989583,\n        -0.23672728,  0.78266201]])"
     },
     "execution_count": 222,
     "metadata": {},
     "output_type": "execute_result"
    }
   ],
   "source": [
    "X_norm = scaler.fit_transform(X_imp)\n",
    "X_norm"
   ],
   "metadata": {
    "collapsed": false,
    "pycharm": {
     "name": "#%%\n"
    }
   }
  },
  {
   "cell_type": "code",
   "execution_count": 223,
   "outputs": [],
   "source": [
    "y_pred = sgdr.predict(X_norm)"
   ],
   "metadata": {
    "collapsed": false,
    "pycharm": {
     "name": "#%%\n"
    }
   }
  },
  {
   "cell_type": "code",
   "execution_count": 224,
   "outputs": [
    {
     "data": {
      "text/plain": "array([0, 0, 0, 0, 1, 0, 1, 0, 1, 0, 0, 0, 1, 0, 1, 1, 0, 0, 0, 0, 0, 0,\n       1, 1, 1, 0, 1, 0, 0, 0, 0, 0, 0, 1, 0, 0, 1, 1, 0, 0, 0, 0, 0, 1,\n       1, 0, 0, 0, 1, 0, 0, 0, 1, 1, 0, 0, 0, 0, 0, 1, 0, 0, 0, 1, 1, 1,\n       1, 0, 1, 1, 1, 0, 1, 1, 1, 1, 0, 1, 0, 1, 0, 0, 0, 0, 0, 0, 1, 1,\n       1, 0, 1, 0, 1, 0, 1, 0, 1, 0, 1, 0, 1, 0, 0, 0, 1, 0, 0, 0, 0, 0,\n       0, 1, 1, 1, 1, 0, 0, 1, 1, 1, 1, 0, 1, 0, 0, 1, 0, 1, 0, 0, 0, 0,\n       1, 0, 0, 0, 0, 0, 1, 0, 0, 1, 0, 0, 0, 0, 0, 0, 0, 0, 1, 0, 0, 0,\n       0, 0, 1, 1, 0, 1, 1, 0, 1, 0, 0, 0, 0, 0, 1, 1, 0, 0, 0, 0, 0, 1,\n       1, 0, 1, 1, 0, 0, 1, 0, 1, 0, 1, 0, 0, 0, 0, 0, 0, 0, 0, 0, 1, 1,\n       0, 1, 1, 0, 0, 1, 0, 0, 1, 0, 1, 0, 0, 0, 0, 0, 0, 0, 1, 0, 1, 0,\n       1, 0, 1, 0, 1, 1, 0, 1, 0, 0, 0, 1, 0, 0, 0, 0, 0, 0, 1, 1, 1, 1,\n       0, 0, 0, 0, 1, 0, 1, 1, 1, 0, 1, 0, 0, 0, 0, 0, 1, 0, 0, 0, 1, 1,\n       0, 0, 0, 0, 1, 0, 0, 0, 1, 1, 0, 1, 0, 0, 0, 0, 1, 0, 1, 1, 1, 0,\n       0, 0, 0, 0, 0, 1, 0, 0, 0, 0, 1, 0, 1, 0, 0, 0, 0, 0, 1, 1, 0, 0,\n       0, 0, 0, 0, 0, 1, 1, 1, 0, 0, 0, 0, 0, 0, 0, 0, 1, 0, 1, 0, 0, 0,\n       1, 0, 0, 1, 0, 0, 0, 0, 0, 0, 0, 0, 0, 1, 0, 1, 0, 1, 0, 1, 1, 0,\n       0, 0, 1, 0, 1, 0, 0, 0, 0, 1, 1, 0, 1, 0, 0, 1, 1, 0, 0, 1, 0, 0,\n       1, 1, 0, 0, 0, 0, 0, 0, 1, 1, 0, 1, 0, 0, 0, 0, 1, 1, 0, 0, 0, 1,\n       0, 1, 0, 0, 1, 0, 1, 1, 0, 0, 0, 0, 1, 1, 1, 1, 1, 0, 1, 0, 0, 0])"
     },
     "execution_count": 224,
     "metadata": {},
     "output_type": "execute_result"
    }
   ],
   "source": [
    "y_pred"
   ],
   "metadata": {
    "collapsed": false,
    "pycharm": {
     "name": "#%%\n"
    }
   }
  },
  {
   "cell_type": "code",
   "execution_count": 226,
   "outputs": [
    {
     "data": {
      "text/plain": "(418,)"
     },
     "execution_count": 226,
     "metadata": {},
     "output_type": "execute_result"
    }
   ],
   "source": [
    "y_pred.shape"
   ],
   "metadata": {
    "collapsed": false,
    "pycharm": {
     "name": "#%%\n"
    }
   }
  },
  {
   "cell_type": "code",
   "execution_count": 229,
   "outputs": [],
   "source": [
    "results = np.concatenate((np.reshape(stats[:,0],(len(stats),1)),np.reshape(y_pred,(len(stats),1))), axis=1)"
   ],
   "metadata": {
    "collapsed": false,
    "pycharm": {
     "name": "#%%\n"
    }
   }
  },
  {
   "cell_type": "code",
   "execution_count": 230,
   "outputs": [
    {
     "data": {
      "text/plain": "array([[892, 0],\n       [893, 0],\n       [894, 0],\n       [895, 0],\n       [896, 1],\n       [897, 0],\n       [898, 1],\n       [899, 0],\n       [900, 1],\n       [901, 0],\n       [902, 0],\n       [903, 0],\n       [904, 1],\n       [905, 0],\n       [906, 1],\n       [907, 1],\n       [908, 0],\n       [909, 0],\n       [910, 0],\n       [911, 0],\n       [912, 0],\n       [913, 0],\n       [914, 1],\n       [915, 1],\n       [916, 1],\n       [917, 0],\n       [918, 1],\n       [919, 0],\n       [920, 0],\n       [921, 0],\n       [922, 0],\n       [923, 0],\n       [924, 0],\n       [925, 1],\n       [926, 0],\n       [927, 0],\n       [928, 1],\n       [929, 1],\n       [930, 0],\n       [931, 0],\n       [932, 0],\n       [933, 0],\n       [934, 0],\n       [935, 1],\n       [936, 1],\n       [937, 0],\n       [938, 0],\n       [939, 0],\n       [940, 1],\n       [941, 0],\n       [942, 0],\n       [943, 0],\n       [944, 1],\n       [945, 1],\n       [946, 0],\n       [947, 0],\n       [948, 0],\n       [949, 0],\n       [950, 0],\n       [951, 1],\n       [952, 0],\n       [953, 0],\n       [954, 0],\n       [955, 1],\n       [956, 1],\n       [957, 1],\n       [958, 1],\n       [959, 0],\n       [960, 1],\n       [961, 1],\n       [962, 1],\n       [963, 0],\n       [964, 1],\n       [965, 1],\n       [966, 1],\n       [967, 1],\n       [968, 0],\n       [969, 1],\n       [970, 0],\n       [971, 1],\n       [972, 0],\n       [973, 0],\n       [974, 0],\n       [975, 0],\n       [976, 0],\n       [977, 0],\n       [978, 1],\n       [979, 1],\n       [980, 1],\n       [981, 0],\n       [982, 1],\n       [983, 0],\n       [984, 1],\n       [985, 0],\n       [986, 1],\n       [987, 0],\n       [988, 1],\n       [989, 0],\n       [990, 1],\n       [991, 0],\n       [992, 1],\n       [993, 0],\n       [994, 0],\n       [995, 0],\n       [996, 1],\n       [997, 0],\n       [998, 0],\n       [999, 0],\n       [1000, 0],\n       [1001, 0],\n       [1002, 0],\n       [1003, 1],\n       [1004, 1],\n       [1005, 1],\n       [1006, 1],\n       [1007, 0],\n       [1008, 0],\n       [1009, 1],\n       [1010, 1],\n       [1011, 1],\n       [1012, 1],\n       [1013, 0],\n       [1014, 1],\n       [1015, 0],\n       [1016, 0],\n       [1017, 1],\n       [1018, 0],\n       [1019, 1],\n       [1020, 0],\n       [1021, 0],\n       [1022, 0],\n       [1023, 0],\n       [1024, 1],\n       [1025, 0],\n       [1026, 0],\n       [1027, 0],\n       [1028, 0],\n       [1029, 0],\n       [1030, 1],\n       [1031, 0],\n       [1032, 0],\n       [1033, 1],\n       [1034, 0],\n       [1035, 0],\n       [1036, 0],\n       [1037, 0],\n       [1038, 0],\n       [1039, 0],\n       [1040, 0],\n       [1041, 0],\n       [1042, 1],\n       [1043, 0],\n       [1044, 0],\n       [1045, 0],\n       [1046, 0],\n       [1047, 0],\n       [1048, 1],\n       [1049, 1],\n       [1050, 0],\n       [1051, 1],\n       [1052, 1],\n       [1053, 0],\n       [1054, 1],\n       [1055, 0],\n       [1056, 0],\n       [1057, 0],\n       [1058, 0],\n       [1059, 0],\n       [1060, 1],\n       [1061, 1],\n       [1062, 0],\n       [1063, 0],\n       [1064, 0],\n       [1065, 0],\n       [1066, 0],\n       [1067, 1],\n       [1068, 1],\n       [1069, 0],\n       [1070, 1],\n       [1071, 1],\n       [1072, 0],\n       [1073, 0],\n       [1074, 1],\n       [1075, 0],\n       [1076, 1],\n       [1077, 0],\n       [1078, 1],\n       [1079, 0],\n       [1080, 0],\n       [1081, 0],\n       [1082, 0],\n       [1083, 0],\n       [1084, 0],\n       [1085, 0],\n       [1086, 0],\n       [1087, 0],\n       [1088, 1],\n       [1089, 1],\n       [1090, 0],\n       [1091, 1],\n       [1092, 1],\n       [1093, 0],\n       [1094, 0],\n       [1095, 1],\n       [1096, 0],\n       [1097, 0],\n       [1098, 1],\n       [1099, 0],\n       [1100, 1],\n       [1101, 0],\n       [1102, 0],\n       [1103, 0],\n       [1104, 0],\n       [1105, 0],\n       [1106, 0],\n       [1107, 0],\n       [1108, 1],\n       [1109, 0],\n       [1110, 1],\n       [1111, 0],\n       [1112, 1],\n       [1113, 0],\n       [1114, 1],\n       [1115, 0],\n       [1116, 1],\n       [1117, 1],\n       [1118, 0],\n       [1119, 1],\n       [1120, 0],\n       [1121, 0],\n       [1122, 0],\n       [1123, 1],\n       [1124, 0],\n       [1125, 0],\n       [1126, 0],\n       [1127, 0],\n       [1128, 0],\n       [1129, 0],\n       [1130, 1],\n       [1131, 1],\n       [1132, 1],\n       [1133, 1],\n       [1134, 0],\n       [1135, 0],\n       [1136, 0],\n       [1137, 0],\n       [1138, 1],\n       [1139, 0],\n       [1140, 1],\n       [1141, 1],\n       [1142, 1],\n       [1143, 0],\n       [1144, 1],\n       [1145, 0],\n       [1146, 0],\n       [1147, 0],\n       [1148, 0],\n       [1149, 0],\n       [1150, 1],\n       [1151, 0],\n       [1152, 0],\n       [1153, 0],\n       [1154, 1],\n       [1155, 1],\n       [1156, 0],\n       [1157, 0],\n       [1158, 0],\n       [1159, 0],\n       [1160, 1],\n       [1161, 0],\n       [1162, 0],\n       [1163, 0],\n       [1164, 1],\n       [1165, 1],\n       [1166, 0],\n       [1167, 1],\n       [1168, 0],\n       [1169, 0],\n       [1170, 0],\n       [1171, 0],\n       [1172, 1],\n       [1173, 0],\n       [1174, 1],\n       [1175, 1],\n       [1176, 1],\n       [1177, 0],\n       [1178, 0],\n       [1179, 0],\n       [1180, 0],\n       [1181, 0],\n       [1182, 0],\n       [1183, 1],\n       [1184, 0],\n       [1185, 0],\n       [1186, 0],\n       [1187, 0],\n       [1188, 1],\n       [1189, 0],\n       [1190, 1],\n       [1191, 0],\n       [1192, 0],\n       [1193, 0],\n       [1194, 0],\n       [1195, 0],\n       [1196, 1],\n       [1197, 1],\n       [1198, 0],\n       [1199, 0],\n       [1200, 0],\n       [1201, 0],\n       [1202, 0],\n       [1203, 0],\n       [1204, 0],\n       [1205, 1],\n       [1206, 1],\n       [1207, 1],\n       [1208, 0],\n       [1209, 0],\n       [1210, 0],\n       [1211, 0],\n       [1212, 0],\n       [1213, 0],\n       [1214, 0],\n       [1215, 0],\n       [1216, 1],\n       [1217, 0],\n       [1218, 1],\n       [1219, 0],\n       [1220, 0],\n       [1221, 0],\n       [1222, 1],\n       [1223, 0],\n       [1224, 0],\n       [1225, 1],\n       [1226, 0],\n       [1227, 0],\n       [1228, 0],\n       [1229, 0],\n       [1230, 0],\n       [1231, 0],\n       [1232, 0],\n       [1233, 0],\n       [1234, 0],\n       [1235, 1],\n       [1236, 0],\n       [1237, 1],\n       [1238, 0],\n       [1239, 1],\n       [1240, 0],\n       [1241, 1],\n       [1242, 1],\n       [1243, 0],\n       [1244, 0],\n       [1245, 0],\n       [1246, 1],\n       [1247, 0],\n       [1248, 1],\n       [1249, 0],\n       [1250, 0],\n       [1251, 0],\n       [1252, 0],\n       [1253, 1],\n       [1254, 1],\n       [1255, 0],\n       [1256, 1],\n       [1257, 0],\n       [1258, 0],\n       [1259, 1],\n       [1260, 1],\n       [1261, 0],\n       [1262, 0],\n       [1263, 1],\n       [1264, 0],\n       [1265, 0],\n       [1266, 1],\n       [1267, 1],\n       [1268, 0],\n       [1269, 0],\n       [1270, 0],\n       [1271, 0],\n       [1272, 0],\n       [1273, 0],\n       [1274, 1],\n       [1275, 1],\n       [1276, 0],\n       [1277, 1],\n       [1278, 0],\n       [1279, 0],\n       [1280, 0],\n       [1281, 0],\n       [1282, 1],\n       [1283, 1],\n       [1284, 0],\n       [1285, 0],\n       [1286, 0],\n       [1287, 1],\n       [1288, 0],\n       [1289, 1],\n       [1290, 0],\n       [1291, 0],\n       [1292, 1],\n       [1293, 0],\n       [1294, 1],\n       [1295, 1],\n       [1296, 0],\n       [1297, 0],\n       [1298, 0],\n       [1299, 0],\n       [1300, 1],\n       [1301, 1],\n       [1302, 1],\n       [1303, 1],\n       [1304, 1],\n       [1305, 0],\n       [1306, 1],\n       [1307, 0],\n       [1308, 0],\n       [1309, 0]], dtype=object)"
     },
     "execution_count": 230,
     "metadata": {},
     "output_type": "execute_result"
    }
   ],
   "source": [
    "results"
   ],
   "metadata": {
    "collapsed": false,
    "pycharm": {
     "name": "#%%\n"
    }
   }
  },
  {
   "cell_type": "code",
   "execution_count": 231,
   "outputs": [],
   "source": [
    "df = pd.DataFrame(results, columns=['PassengerId','Survived'])"
   ],
   "metadata": {
    "collapsed": false,
    "pycharm": {
     "name": "#%%\n"
    }
   }
  },
  {
   "cell_type": "code",
   "execution_count": 232,
   "outputs": [
    {
     "data": {
      "text/plain": "    PassengerId Survived\n0           892        0\n1           893        0\n2           894        0\n3           895        0\n4           896        1\n..          ...      ...\n413        1305        0\n414        1306        1\n415        1307        0\n416        1308        0\n417        1309        0\n\n[418 rows x 2 columns]",
      "text/html": "<div>\n<style scoped>\n    .dataframe tbody tr th:only-of-type {\n        vertical-align: middle;\n    }\n\n    .dataframe tbody tr th {\n        vertical-align: top;\n    }\n\n    .dataframe thead th {\n        text-align: right;\n    }\n</style>\n<table border=\"1\" class=\"dataframe\">\n  <thead>\n    <tr style=\"text-align: right;\">\n      <th></th>\n      <th>PassengerId</th>\n      <th>Survived</th>\n    </tr>\n  </thead>\n  <tbody>\n    <tr>\n      <th>0</th>\n      <td>892</td>\n      <td>0</td>\n    </tr>\n    <tr>\n      <th>1</th>\n      <td>893</td>\n      <td>0</td>\n    </tr>\n    <tr>\n      <th>2</th>\n      <td>894</td>\n      <td>0</td>\n    </tr>\n    <tr>\n      <th>3</th>\n      <td>895</td>\n      <td>0</td>\n    </tr>\n    <tr>\n      <th>4</th>\n      <td>896</td>\n      <td>1</td>\n    </tr>\n    <tr>\n      <th>...</th>\n      <td>...</td>\n      <td>...</td>\n    </tr>\n    <tr>\n      <th>413</th>\n      <td>1305</td>\n      <td>0</td>\n    </tr>\n    <tr>\n      <th>414</th>\n      <td>1306</td>\n      <td>1</td>\n    </tr>\n    <tr>\n      <th>415</th>\n      <td>1307</td>\n      <td>0</td>\n    </tr>\n    <tr>\n      <th>416</th>\n      <td>1308</td>\n      <td>0</td>\n    </tr>\n    <tr>\n      <th>417</th>\n      <td>1309</td>\n      <td>0</td>\n    </tr>\n  </tbody>\n</table>\n<p>418 rows × 2 columns</p>\n</div>"
     },
     "execution_count": 232,
     "metadata": {},
     "output_type": "execute_result"
    }
   ],
   "source": [
    "df"
   ],
   "metadata": {
    "collapsed": false,
    "pycharm": {
     "name": "#%%\n"
    }
   }
  },
  {
   "cell_type": "code",
   "execution_count": 233,
   "outputs": [],
   "source": [
    "df.to_csv('results.csv')"
   ],
   "metadata": {
    "collapsed": false,
    "pycharm": {
     "name": "#%%\n"
    }
   }
  },
  {
   "cell_type": "code",
   "execution_count": null,
   "outputs": [],
   "source": [],
   "metadata": {
    "collapsed": false,
    "pycharm": {
     "name": "#%%\n"
    }
   }
  }
 ],
 "metadata": {
  "kernelspec": {
   "display_name": "Python 3",
   "language": "python",
   "name": "python3"
  },
  "language_info": {
   "codemirror_mode": {
    "name": "ipython",
    "version": 2
   },
   "file_extension": ".py",
   "mimetype": "text/x-python",
   "name": "python",
   "nbconvert_exporter": "python",
   "pygments_lexer": "ipython2",
   "version": "2.7.6"
  }
 },
 "nbformat": 4,
 "nbformat_minor": 0
}